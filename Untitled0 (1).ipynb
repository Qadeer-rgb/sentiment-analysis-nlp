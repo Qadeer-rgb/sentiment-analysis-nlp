{
  "nbformat": 4,
  "nbformat_minor": 0,
  "metadata": {
    "colab": {
      "provenance": [],
      "toc_visible": true
    },
    "kernelspec": {
      "name": "python3",
      "display_name": "Python 3"
    },
    "language_info": {
      "name": "python"
    }
  },
  "cells": [
    {
      "cell_type": "code",
      "source": [
        "from textblob import TextBlob\n",
        "\n",
        "movie_opinions = [\n",
        "    \"The movie is great!\",\n",
        "    \"I wasted my time.\",\n",
        "    \"What a fantastic performance!\",\n",
        "    \"I will never watch this movie again.\",\n",
        "    \"I hate this movie's actors.\"\n",
        "]\n",
        "\n",
        "for opinion in movie_opinions:\n",
        "    review_blob = TextBlob(opinion)\n",
        "    sentiment_score = review_blob.sentiment.polarity\n",
        "\n",
        "    if sentiment_score > 0:\n",
        "        label = \"Positive\"\n",
        "    elif sentiment_score < 0:\n",
        "        label = \"Negative\"\n",
        "    else:\n",
        "        label = \"Neutral\"\n",
        "\n",
        "    print(f\"Review: {opinion}\")\n",
        "    print(f\"Sentiment: {label} (Score: {sentiment_score})\")\n"
      ],
      "metadata": {
        "colab": {
          "base_uri": "https://localhost:8080/"
        },
        "id": "XSaJHG_6GChL",
        "outputId": "c6df80af-78f9-4810-a040-5d59b7efd708"
      },
      "execution_count": 20,
      "outputs": [
        {
          "output_type": "stream",
          "name": "stdout",
          "text": [
            "Review: The movie is great!\n",
            "Sentiment: Positive (Score: 1.0)\n",
            "Review: I wasted my time.\n",
            "Sentiment: Negative (Score: -0.2)\n",
            "Review: What a fantastic performance!\n",
            "Sentiment: Positive (Score: 0.5)\n",
            "Review: I will never watch this movie again.\n",
            "Sentiment: Neutral (Score: 0.0)\n",
            "Review: I hate this movie's actors.\n",
            "Sentiment: Negative (Score: -0.8)\n"
          ]
        }
      ]
    }
  ]
}